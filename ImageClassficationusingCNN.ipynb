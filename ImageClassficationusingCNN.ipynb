{
  "nbformat": 4,
  "nbformat_minor": 0,
  "metadata": {
    "colab": {
      "provenance": []
    },
    "kernelspec": {
      "name": "python3",
      "display_name": "Python 3"
    },
    "language_info": {
      "name": "python"
    },
    "accelerator": "GPU"
  },
  "cells": [
    {
      "cell_type": "code",
      "execution_count": 1,
      "metadata": {
        "id": "Q91uyeE8DeNA"
      },
      "outputs": [],
      "source": [
        "import tensorflow as tf\n",
        "from tensorflow.keras import datasets, layers, models \n",
        "\n",
        "\n",
        "import matplotlib.pyplot as plt\n",
        "import numpy as np\n",
        "\n"
      ]
    },
    {
      "cell_type": "code",
      "source": [
        "(X_train, y_train), (X_test,y_test) = datasets.cifar10.load_data()\n",
        "X_train.shape"
      ],
      "metadata": {
        "colab": {
          "base_uri": "https://localhost:8080/"
        },
        "id": "fdc-I1usD0uX",
        "outputId": "548b99d8-7e9b-4209-bbd2-09d7488229a4"
      },
      "execution_count": 2,
      "outputs": [
        {
          "output_type": "stream",
          "name": "stdout",
          "text": [
            "Downloading data from https://www.cs.toronto.edu/~kriz/cifar-10-python.tar.gz\n",
            "170498071/170498071 [==============================] - 13s 0us/step\n"
          ]
        },
        {
          "output_type": "execute_result",
          "data": {
            "text/plain": [
              "(50000, 32, 32, 3)"
            ]
          },
          "metadata": {},
          "execution_count": 2
        }
      ]
    },
    {
      "cell_type": "code",
      "source": [
        "X_test.shape"
      ],
      "metadata": {
        "colab": {
          "base_uri": "https://localhost:8080/"
        },
        "id": "PxDjBGx8MwRI",
        "outputId": "75622fc9-9b38-4fc8-b5c0-4118d8c2c3c7"
      },
      "execution_count": 3,
      "outputs": [
        {
          "output_type": "execute_result",
          "data": {
            "text/plain": [
              "(10000, 32, 32, 3)"
            ]
          },
          "metadata": {},
          "execution_count": 3
        }
      ]
    },
    {
      "cell_type": "code",
      "source": [
        "y_train.shape"
      ],
      "metadata": {
        "colab": {
          "base_uri": "https://localhost:8080/"
        },
        "id": "RM-GGk5SM3j0",
        "outputId": "26dc46dd-947c-450b-bc04-f31f3b43e552"
      },
      "execution_count": 4,
      "outputs": [
        {
          "output_type": "execute_result",
          "data": {
            "text/plain": [
              "(50000, 1)"
            ]
          },
          "metadata": {},
          "execution_count": 4
        }
      ]
    },
    {
      "cell_type": "code",
      "source": [
        "y_train[:5]"
      ],
      "metadata": {
        "colab": {
          "base_uri": "https://localhost:8080/"
        },
        "id": "vkEe9munM9dd",
        "outputId": "3194b6c1-6b76-43be-92b1-b1c650c7fab0"
      },
      "execution_count": 5,
      "outputs": [
        {
          "output_type": "execute_result",
          "data": {
            "text/plain": [
              "array([[6],\n",
              "       [9],\n",
              "       [9],\n",
              "       [4],\n",
              "       [1]], dtype=uint8)"
            ]
          },
          "metadata": {},
          "execution_count": 5
        }
      ]
    },
    {
      "cell_type": "code",
      "source": [
        "y_train = y_train.reshape(-1,)\n",
        "y_train[:5]"
      ],
      "metadata": {
        "colab": {
          "base_uri": "https://localhost:8080/"
        },
        "id": "Q-n6_gaWOFUw",
        "outputId": "1bcd55c1-3054-4cda-8ec7-ec12fcedb84d"
      },
      "execution_count": 6,
      "outputs": [
        {
          "output_type": "execute_result",
          "data": {
            "text/plain": [
              "array([6, 9, 9, 4, 1], dtype=uint8)"
            ]
          },
          "metadata": {},
          "execution_count": 6
        }
      ]
    },
    {
      "cell_type": "code",
      "source": [
        "y_test = y_test.reshape(-1,)"
      ],
      "metadata": {
        "id": "4NLSa7kAOKT3"
      },
      "execution_count": 7,
      "outputs": []
    },
    {
      "cell_type": "code",
      "source": [
        "\n",
        "classes = [\"airplane\",\"automobile\",\"bird\",\"cat\",\"deer\",\"dog\",\"frog\",\"horse\",\"ship\",\"truck\"]"
      ],
      "metadata": {
        "id": "LxSM0ikNOOym"
      },
      "execution_count": 8,
      "outputs": []
    },
    {
      "cell_type": "code",
      "source": [
        "def plot_sample(X, y, index):\n",
        "    plt.figure(figsize = (15,2))\n",
        "    plt.imshow(X[index])\n",
        "    plt.xlabel(classes[y[index]])"
      ],
      "metadata": {
        "id": "UrpNnVjIOT0s"
      },
      "execution_count": 9,
      "outputs": []
    },
    {
      "cell_type": "code",
      "source": [
        "plot_sample(X_train, y_train, 0)"
      ],
      "metadata": {
        "colab": {
          "base_uri": "https://localhost:8080/",
          "height": 173
        },
        "id": "tLoBh5qgOU6r",
        "outputId": "89896561-4ded-4efa-f7c1-c576b42048a7"
      },
      "execution_count": 10,
      "outputs": [
        {
          "output_type": "display_data",
          "data": {
            "text/plain": [
              "<Figure size 1080x144 with 1 Axes>"
            ],
            "image/png": "[encoded data removed]"
          },
          "metadata": {
            "needs_background": "light"
          }
        }
      ]
    },
    {
      "cell_type": "code",
      "source": [
        "plot_sample(X_train, y_train, 1)"
      ],
      "metadata": {
        "colab": {
          "base_uri": "https://localhost:8080/",
          "height": 173
        },
        "id": "WPQoTe8cOaLU",
        "outputId": "e71a4fc3-4286-4c5f-f63b-d2731ad2448a"
      },
      "execution_count": 11,
      "outputs": [
        {
          "output_type": "display_data",
          "data": {
            "text/plain": [
              "<Figure size 1080x144 with 1 Axes>"
            ],
            "image/png": "[encoded data removed]"
          },
          "metadata": {
            "needs_background": "light"
          }
        }
      ]
    },
    {
      "cell_type": "code",
      "source": [
        "X_train = X_train / 255.0\n",
        "X_test = X_test / 255.0"
      ],
      "metadata": {
        "id": "-7JZPoe5Oc-O"
      },
      "execution_count": 12,
      "outputs": []
    },
    {
      "cell_type": "code",
      "source": [
        "cnn = models.Sequential([\n",
        "    layers.Conv2D(filters=32, kernel_size=(3, 3), activation='relu', input_shape=(32, 32, 3)),\n",
        "    layers.MaxPooling2D((2, 2)),\n",
        "    \n",
        "    layers.Conv2D(filters=64, kernel_size=(3, 3), activation='relu'),\n",
        "    layers.MaxPooling2D((2, 2)),\n",
        "    \n",
        "    layers.Flatten(),\n",
        "    layers.Dense(64, activation='relu'),\n",
        "    layers.Dense(10, activation='softmax')\n",
        "])"
      ],
      "metadata": {
        "id": "SZs8CmK1Oh2c"
      },
      "execution_count": 13,
      "outputs": []
    },
    {
      "cell_type": "code",
      "source": [
        "cnn.compile(optimizer='adam',\n",
        "              loss='sparse_categorical_crossentropy',\n",
        "              metrics=['accuracy'])"
      ],
      "metadata": {
        "id": "pSIK78FnOlKY"
      },
      "execution_count": 14,
      "outputs": []
    },
    {
      "cell_type": "code",
      "source": [
        "cnn.fit(X_train, y_train, epochs=10)"
      ],
      "metadata": {
        "colab": {
          "base_uri": "https://localhost:8080/"
        },
        "id": "iWJTZETWOqRg",
        "outputId": "ab63ac4b-6e51-44f0-84e7-74356bf4b4f6"
      },
      "execution_count": 15,
      "outputs": [
        {
          "output_type": "stream",
          "name": "stdout",
          "text": [
            "Epoch 1/10\n",
            "1563/1563 [==============================] - 17s 4ms/step - loss: 1.4239 - accuracy: 0.4904\n",
            "Epoch 2/10\n",
            "1563/1563 [==============================] - 7s 4ms/step - loss: 1.0720 - accuracy: 0.6249\n",
            "Epoch 3/10\n",
            "1563/1563 [==============================] - 6s 4ms/step - loss: 0.9439 - accuracy: 0.6717\n",
            "Epoch 4/10\n",
            "1563/1563 [==============================] - 7s 4ms/step - loss: 0.8582 - accuracy: 0.7013\n",
            "Epoch 5/10\n",
            "1563/1563 [==============================] - 7s 4ms/step - loss: 0.7869 - accuracy: 0.7263\n",
            "Epoch 6/10\n",
            "1563/1563 [==============================] - 7s 5ms/step - loss: 0.7290 - accuracy: 0.7450\n",
            "Epoch 7/10\n",
            "1563/1563 [==============================] - 7s 4ms/step - loss: 0.6793 - accuracy: 0.7635\n",
            "Epoch 8/10\n",
            "1563/1563 [==============================] - 6s 4ms/step - loss: 0.6317 - accuracy: 0.7781\n",
            "Epoch 9/10\n",
            "1563/1563 [==============================] - 7s 5ms/step - loss: 0.5875 - accuracy: 0.7946\n",
            "Epoch 10/10\n",
            "1563/1563 [==============================] - 6s 4ms/step - loss: 0.5510 - accuracy: 0.8067\n"
          ]
        },
        {
          "output_type": "execute_result",
          "data": {
            "text/plain": [
              "<keras.callbacks.History at 0x7fa1f7dda910>"
            ]
          },
          "metadata": {},
          "execution_count": 15
        }
      ]
    },
    {
      "cell_type": "code",
      "source": [
        "cnn.evaluate(X_test,y_test)"
      ],
      "metadata": {
        "colab": {
          "base_uri": "https://localhost:8080/"
        },
        "id": "S9mkboYFO_6L",
        "outputId": "87ba91e1-7cb3-4aed-c428-ac9d708135b6"
      },
      "execution_count": 16,
      "outputs": [
        {
          "output_type": "stream",
          "name": "stdout",
          "text": [
            "313/313 [==============================] - 1s 3ms/step - loss: 0.9294 - accuracy: 0.7012\n"
          ]
        },
        {
          "output_type": "execute_result",
          "data": {
            "text/plain": [
              "[0.9294400215148926, 0.701200008392334]"
            ]
          },
          "metadata": {},
          "execution_count": 16
        }
      ]
    },
    {
      "cell_type": "code",
      "source": [
        "y_pred = cnn.predict(X_test)\n",
        "y_pred[:5]"
      ],
      "metadata": {
        "colab": {
          "base_uri": "https://localhost:8080/"
        },
        "id": "U5LFVM0-PICg",
        "outputId": "59a6a4c1-6f82-48ef-fd4b-39ad1444bfc1"
      },
      "execution_count": 17,
      "outputs": [
        {
          "output_type": "stream",
          "name": "stdout",
          "text": [
            "313/313 [==============================] - 1s 2ms/step\n"
          ]
        },
        {
          "output_type": "execute_result",
          "data": {
            "text/plain": [
              "array([[5.2337273e-05, 2.4686027e-03, 1.0320062e-03, 8.3055699e-01,\n",
              "        1.2101086e-03, 1.4136212e-01, 1.5467927e-03, 4.1708496e-05,\n",
              "        2.1527708e-02, 2.0178905e-04],\n",
              "       [3.3943907e-05, 7.8893915e-02, 1.2952564e-06, 2.5016377e-07,\n",
              "        1.5958133e-07, 5.2707311e-08, 2.4609443e-09, 1.2357212e-07,\n",
              "        9.2101377e-01, 5.6575042e-05],\n",
              "       [7.5370505e-02, 4.1896740e-01, 3.4582594e-03, 1.2418138e-02,\n",
              "        2.3911282e-02, 7.1439883e-03, 3.3178428e-04, 7.3404717e-03,\n",
              "        4.2136371e-01, 2.9694466e-02],\n",
              "       [7.7660209e-01, 5.6785729e-02, 1.3932392e-01, 1.1190339e-03,\n",
              "        1.9176565e-03, 5.4465472e-06, 1.0649985e-04, 1.1389935e-05,\n",
              "        2.4092989e-02, 3.5283949e-05],\n",
              "       [5.8167711e-07, 1.2916158e-05, 8.3348705e-03, 3.7567951e-02,\n",
              "        3.9424740e-02, 1.3699314e-03, 9.1283613e-01, 2.5810893e-06,\n",
              "        4.3638604e-04, 1.3871348e-05]], dtype=float32)"
            ]
          },
          "metadata": {},
          "execution_count": 17
        }
      ]
    },
    {
      "cell_type": "code",
      "source": [
        "y_test[:5]"
      ],
      "metadata": {
        "colab": {
          "base_uri": "https://localhost:8080/"
        },
        "id": "XlEOuuTMPJXF",
        "outputId": "d484c479-898a-4fbc-c034-beaa6ff03901"
      },
      "execution_count": 18,
      "outputs": [
        {
          "output_type": "execute_result",
          "data": {
            "text/plain": [
              "array([3, 8, 8, 0, 6], dtype=uint8)"
            ]
          },
          "metadata": {},
          "execution_count": 18
        }
      ]
    },
    {
      "cell_type": "code",
      "source": [
        "plot_sample(X_test, y_test,2)"
      ],
      "metadata": {
        "colab": {
          "base_uri": "https://localhost:8080/",
          "height": 173
        },
        "id": "t-d7hfdKPNnS",
        "outputId": "3c0b0c88-b1b3-4805-86d5-a6b09bb7586f"
      },
      "execution_count": 19,
      "outputs": [
        {
          "output_type": "display_data",
          "data": {
            "text/plain": [
              "<Figure size 1080x144 with 1 Axes>"
            ],
            "image/png": "[encoded data removed]"
          },
          "metadata": {
            "needs_background": "light"
          }
        }
      ]
    },
    {
      "cell_type": "code",
      "source": [
        "y_classes = [np.argmax(element) for element in y_pred]\n",
        "y_classes[:5]"
      ],
      "metadata": {
        "colab": {
          "base_uri": "https://localhost:8080/"
        },
        "id": "1SlCumr2PO0H",
        "outputId": "fbbe7247-7a3b-4229-e0e2-2825a17c6979"
      },
      "execution_count": 20,
      "outputs": [
        {
          "output_type": "execute_result",
          "data": {
            "text/plain": [
              "[3, 8, 8, 0, 6]"
            ]
          },
          "metadata": {},
          "execution_count": 20
        }
      ]
    },
    {
      "cell_type": "code",
      "source": [
        "classes[y_classes[2]]\n"
      ],
      "metadata": {
        "colab": {
          "base_uri": "https://localhost:8080/",
          "height": 35
        },
        "id": "Uq7LvEaCPeVk",
        "outputId": "6a7ab31b-80e5-49b2-c04b-d3523ec39fec"
      },
      "execution_count": 21,
      "outputs": [
        {
          "output_type": "execute_result",
          "data": {
            "text/plain": [
              "'ship'"
            ],
            "application/vnd.google.colaboratory.intrinsic+json": {
              "type": "string"
            }
          },
          "metadata": {},
          "execution_count": 21
        }
      ]
    },
    {
      "cell_type": "code",
      "source": [
        "from sklearn.metrics import confusion_matrix , classification_report\n",
        "print(\"Classification Report: \\n\", classification_report(y_test,y_classes))"
      ],
      "metadata": {
        "colab": {
          "base_uri": "https://localhost:8080/"
        },
        "id": "opdZvdOPMSvw",
        "outputId": "4bff74ee-a086-4ade-9688-e8c011dcff18"
      },
      "execution_count": 22,
      "outputs": [
        {
          "output_type": "stream",
          "name": "stdout",
          "text": [
            "Classification Report: \n",
            "               precision    recall  f1-score   support\n",
            "\n",
            "           0       0.81      0.67      0.73      1000\n",
            "           1       0.84      0.81      0.82      1000\n",
            "           2       0.64      0.52      0.57      1000\n",
            "           3       0.47      0.55      0.51      1000\n",
            "           4       0.65      0.66      0.65      1000\n",
            "           5       0.53      0.70      0.60      1000\n",
            "           6       0.82      0.72      0.77      1000\n",
            "           7       0.80      0.74      0.77      1000\n",
            "           8       0.78      0.85      0.82      1000\n",
            "           9       0.81      0.79      0.79      1000\n",
            "\n",
            "    accuracy                           0.70     10000\n",
            "   macro avg       0.71      0.70      0.70     10000\n",
            "weighted avg       0.71      0.70      0.70     10000\n",
            "\n"
          ]
        }
      ]
    }
  ]
}